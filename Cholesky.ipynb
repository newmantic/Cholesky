{
  "nbformat": 4,
  "nbformat_minor": 0,
  "metadata": {
    "colab": {
      "provenance": [],
      "authorship_tag": "ABX9TyN98pDr/Bq6EuUwwjuEOXzN",
      "include_colab_link": true
    },
    "kernelspec": {
      "name": "python3",
      "display_name": "Python 3"
    },
    "language_info": {
      "name": "python"
    }
  },
  "cells": [
    {
      "cell_type": "markdown",
      "metadata": {
        "id": "view-in-github",
        "colab_type": "text"
      },
      "source": [
        "<a href=\"https://colab.research.google.com/github/newmantic/Cholesky/blob/main/Cholesky.ipynb\" target=\"_parent\"><img src=\"https://colab.research.google.com/assets/colab-badge.svg\" alt=\"Open In Colab\"/></a>"
      ]
    },
    {
      "cell_type": "code",
      "execution_count": 1,
      "metadata": {
        "colab": {
          "base_uri": "https://localhost:8080/"
        },
        "id": "QuTGiPa3r0d1",
        "outputId": "8943d1d7-c51a-461b-b063-8e234596557c"
      },
      "outputs": [
        {
          "output_type": "stream",
          "name": "stdout",
          "text": [
            "Matrix L:\n",
            "[[ 2.  0.  0.]\n",
            " [ 6.  1.  0.]\n",
            " [-8.  5.  3.]]\n",
            "Reconstructed Matrix A:\n",
            "[[  4.  12. -16.]\n",
            " [ 12.  37. -43.]\n",
            " [-16. -43.  98.]]\n"
          ]
        }
      ],
      "source": [
        "import numpy as np\n",
        "\n",
        "def cholesky_decomposition(A):\n",
        "    \"\"\"\n",
        "    Perform Cholesky decomposition of a symmetric, positive-definite matrix A.\n",
        "\n",
        "    Parameters:\n",
        "    A (np.ndarray): The input matrix of shape (n, n).\n",
        "\n",
        "    Returns:\n",
        "    np.ndarray: The lower triangular matrix L such that A = L * L^T.\n",
        "    \"\"\"\n",
        "    n = A.shape[0]\n",
        "    L = np.zeros((n, n))\n",
        "\n",
        "    for i in range(n):\n",
        "        for j in range(i + 1):\n",
        "            sum_l = sum(L[i][k] * L[j][k] for k in range(j))\n",
        "            if i == j:  # Diagonal elements\n",
        "                L[i][j] = np.sqrt(A[i][i] - sum_l)\n",
        "            else:  # Off-diagonal elements\n",
        "                L[i][j] = (A[i][j] - sum_l) / L[j][j]\n",
        "\n",
        "    return L\n",
        "\n",
        "# Testable example:\n",
        "A = np.array([[4, 12, -16],\n",
        "              [12, 37, -43],\n",
        "              [-16, -43, 98]])\n",
        "\n",
        "L = cholesky_decomposition(A)\n",
        "print(\"Matrix L:\")\n",
        "print(L)\n",
        "\n",
        "# Verify that A = L * L^T\n",
        "A_reconstructed = np.dot(L, L.T)\n",
        "print(\"Reconstructed Matrix A:\")\n",
        "print(A_reconstructed)"
      ]
    },
    {
      "cell_type": "code",
      "source": [
        "# example:\n",
        "A_advanced = np.array([[25, 15, -5],\n",
        "                       [15, 18,  0],\n",
        "                       [-5,  0, 11]])\n",
        "\n",
        "L_advanced = cholesky_decomposition(A_advanced)\n",
        "print(\"Advanced Matrix L:\")\n",
        "print(L_advanced)\n",
        "\n",
        "# Verify that A_advanced = L_advanced * L_advanced^T\n",
        "A_advanced_reconstructed = np.dot(L_advanced, L_advanced.T)\n",
        "print(\"Reconstructed Advanced Matrix A:\")\n",
        "print(A_advanced_reconstructed)"
      ],
      "metadata": {
        "colab": {
          "base_uri": "https://localhost:8080/"
        },
        "id": "5M_aiOIMsKPS",
        "outputId": "54f20e74-d5e6-42c4-abd8-14c495ce80fb"
      },
      "execution_count": 2,
      "outputs": [
        {
          "output_type": "stream",
          "name": "stdout",
          "text": [
            "Advanced Matrix L:\n",
            "[[ 5.  0.  0.]\n",
            " [ 3.  3.  0.]\n",
            " [-1.  1.  3.]]\n",
            "Reconstructed Advanced Matrix A:\n",
            "[[25. 15. -5.]\n",
            " [15. 18.  0.]\n",
            " [-5.  0. 11.]]\n"
          ]
        }
      ]
    }
  ]
}